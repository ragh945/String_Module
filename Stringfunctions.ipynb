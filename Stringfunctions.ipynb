{
 "cells": [
  {
   "cell_type": "code",
   "execution_count": 1,
   "id": "bd3a20c4",
   "metadata": {},
   "outputs": [],
   "source": [
    "import Stringmethods as sm"
   ]
  },
  {
   "cell_type": "markdown",
   "id": "d408a70f",
   "metadata": {},
   "source": [
    "# upper():"
   ]
  },
  {
   "cell_type": "code",
   "execution_count": 2,
   "id": "e7077e6b",
   "metadata": {},
   "outputs": [
    {
     "data": {
      "text/plain": [
       "'RAGHU'"
      ]
     },
     "execution_count": 2,
     "metadata": {},
     "output_type": "execute_result"
    }
   ],
   "source": [
    "sm.upper(\"raghu\")"
   ]
  },
  {
   "cell_type": "markdown",
   "id": "478ccb49",
   "metadata": {},
   "source": [
    "# lower():"
   ]
  },
  {
   "cell_type": "code",
   "execution_count": 3,
   "id": "e4423379",
   "metadata": {},
   "outputs": [
    {
     "data": {
      "text/plain": [
       "'raghu'"
      ]
     },
     "execution_count": 3,
     "metadata": {},
     "output_type": "execute_result"
    }
   ],
   "source": [
    "sm.lower(\"RAGHU\")"
   ]
  },
  {
   "cell_type": "markdown",
   "id": "33120f7f",
   "metadata": {},
   "source": [
    "# isupper():"
   ]
  },
  {
   "cell_type": "code",
   "execution_count": 4,
   "id": "e1f3a027",
   "metadata": {},
   "outputs": [
    {
     "data": {
      "text/plain": [
       "True"
      ]
     },
     "execution_count": 4,
     "metadata": {},
     "output_type": "execute_result"
    }
   ],
   "source": [
    "sm.isupper(\"ragHu\")"
   ]
  },
  {
   "cell_type": "markdown",
   "id": "a6310f22",
   "metadata": {},
   "source": [
    "# islower():"
   ]
  },
  {
   "cell_type": "code",
   "execution_count": 5,
   "id": "23658842",
   "metadata": {},
   "outputs": [
    {
     "data": {
      "text/plain": [
       "True"
      ]
     },
     "execution_count": 5,
     "metadata": {},
     "output_type": "execute_result"
    }
   ],
   "source": [
    "sm.islower(\"RaGHU\")"
   ]
  },
  {
   "cell_type": "markdown",
   "id": "54278785",
   "metadata": {},
   "source": [
    "# isalpha():"
   ]
  },
  {
   "cell_type": "code",
   "execution_count": 6,
   "id": "8b0d6750",
   "metadata": {},
   "outputs": [
    {
     "data": {
      "text/plain": [
       "False"
      ]
     },
     "execution_count": 6,
     "metadata": {},
     "output_type": "execute_result"
    }
   ],
   "source": [
    "sm.isalpha(\"raghu123\")"
   ]
  },
  {
   "cell_type": "markdown",
   "id": "d2392fd4",
   "metadata": {},
   "source": [
    "# isdisgit():"
   ]
  },
  {
   "cell_type": "code",
   "execution_count": 7,
   "id": "7a24f9f8",
   "metadata": {},
   "outputs": [
    {
     "data": {
      "text/plain": [
       "True"
      ]
     },
     "execution_count": 7,
     "metadata": {},
     "output_type": "execute_result"
    }
   ],
   "source": [
    "sm.isdigit(\"12398\")"
   ]
  },
  {
   "cell_type": "markdown",
   "id": "2a71f886",
   "metadata": {},
   "source": [
    "# startswith():"
   ]
  },
  {
   "cell_type": "code",
   "execution_count": 8,
   "id": "e47e6b21",
   "metadata": {},
   "outputs": [
    {
     "name": "stdout",
     "output_type": "stream",
     "text": [
      "Enter the string :Raghu\n"
     ]
    },
    {
     "data": {
      "text/plain": [
       "True"
      ]
     },
     "execution_count": 8,
     "metadata": {},
     "output_type": "execute_result"
    }
   ],
   "source": [
    "sm.startswith(\"R\")"
   ]
  },
  {
   "cell_type": "markdown",
   "id": "be96abcb",
   "metadata": {},
   "source": [
    "# endswith():"
   ]
  },
  {
   "cell_type": "code",
   "execution_count": 9,
   "id": "2471674a",
   "metadata": {},
   "outputs": [
    {
     "name": "stdout",
     "output_type": "stream",
     "text": [
      "Enter the string :raghu\n"
     ]
    },
    {
     "data": {
      "text/plain": [
       "True"
      ]
     },
     "execution_count": 9,
     "metadata": {},
     "output_type": "execute_result"
    }
   ],
   "source": [
    "sm.endswith(\"u\")"
   ]
  },
  {
   "cell_type": "markdown",
   "id": "7e51a55b",
   "metadata": {},
   "source": [
    "# capitalize():"
   ]
  },
  {
   "cell_type": "code",
   "execution_count": 10,
   "id": "29d1e096",
   "metadata": {},
   "outputs": [
    {
     "data": {
      "text/plain": [
       "'Tonystark'"
      ]
     },
     "execution_count": 10,
     "metadata": {},
     "output_type": "execute_result"
    }
   ],
   "source": [
    "sm.capitalize(\"tonystark\")"
   ]
  },
  {
   "cell_type": "markdown",
   "id": "cb89a01e",
   "metadata": {},
   "source": [
    "# title():"
   ]
  },
  {
   "cell_type": "code",
   "execution_count": 11,
   "id": "3eebc3d3",
   "metadata": {},
   "outputs": [
    {
     "data": {
      "text/plain": [
       "'Welcome To My Home'"
      ]
     },
     "execution_count": 11,
     "metadata": {},
     "output_type": "execute_result"
    }
   ],
   "source": [
    "sm.title(\"welcome to my home\")"
   ]
  },
  {
   "cell_type": "markdown",
   "id": "f31dda23",
   "metadata": {},
   "source": [
    "# swapcase():"
   ]
  },
  {
   "cell_type": "code",
   "execution_count": 12,
   "id": "a4857b68",
   "metadata": {},
   "outputs": [
    {
     "data": {
      "text/plain": [
       "'rAgHu'"
      ]
     },
     "execution_count": 12,
     "metadata": {},
     "output_type": "execute_result"
    }
   ],
   "source": [
    "sm.swapcase(\"RaGhU\")"
   ]
  },
  {
   "cell_type": "markdown",
   "id": "fba73fc2",
   "metadata": {},
   "source": [
    "# split():"
   ]
  },
  {
   "cell_type": "code",
   "execution_count": 13,
   "id": "6484448f",
   "metadata": {},
   "outputs": [
    {
     "name": "stdout",
     "output_type": "stream",
     "text": [
      "Enter the string :hello namaste welcome\n"
     ]
    },
    {
     "data": {
      "text/plain": [
       "['hello', 'namaste', 'welcome']"
      ]
     },
     "execution_count": 13,
     "metadata": {},
     "output_type": "execute_result"
    }
   ],
   "source": [
    "sm.split(\" \")"
   ]
  },
  {
   "cell_type": "markdown",
   "id": "7e80ba2d",
   "metadata": {},
   "source": [
    "# isalnum():"
   ]
  },
  {
   "cell_type": "code",
   "execution_count": 14,
   "id": "f917cb4f",
   "metadata": {},
   "outputs": [
    {
     "data": {
      "text/plain": [
       "True"
      ]
     },
     "execution_count": 14,
     "metadata": {},
     "output_type": "execute_result"
    }
   ],
   "source": [
    "sm.isalnum(\"123welcome\")"
   ]
  }
 ],
 "metadata": {
  "kernelspec": {
   "display_name": "Python 3 (ipykernel)",
   "language": "python",
   "name": "python3"
  },
  "language_info": {
   "codemirror_mode": {
    "name": "ipython",
    "version": 3
   },
   "file_extension": ".py",
   "mimetype": "text/x-python",
   "name": "python",
   "nbconvert_exporter": "python",
   "pygments_lexer": "ipython3",
   "version": "3.9.13"
  }
 },
 "nbformat": 4,
 "nbformat_minor": 5
}
